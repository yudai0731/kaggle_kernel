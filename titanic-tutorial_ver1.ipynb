{
 "cells": [
  {
   "cell_type": "markdown",
   "metadata": {
    "_cell_guid": "79c7e3d0-c299-4dcb-8224-4455121ee9b0",
    "_uuid": "d629ff2d2480ee46fbb7e2d37f6b5fab8052498a",
    "collapsed": true,
    "papermill": {
     "duration": 0.015326,
     "end_time": "2020-09-30T09:05:17.195196",
     "exception": false,
     "start_time": "2020-09-30T09:05:17.179870",
     "status": "completed"
    },
    "tags": []
   },
   "source": [
    "## 参考記事「Kaggleに登録したら次にやること ～ これだけやれば十分闘える！Titanicの先へ行く入門 10 Kernel ～」\n",
    "Link : https://qiita.com/upura/items/3c10ff6fed4e7c3d70f0"
   ]
  },
  {
   "cell_type": "markdown",
   "metadata": {
    "papermill": {
     "duration": 0.01294,
     "end_time": "2020-09-30T09:05:17.221778",
     "exception": false,
     "start_time": "2020-09-30T09:05:17.208838",
     "status": "completed"
    },
    "tags": []
   },
   "source": [
    "## 1. まずはsubmit! 順位表に載ってみよう\n",
    "kaggleではいつくかの方法で自分が作成した機械学習モデルの予測結果を提出(submit)できる(Notebook経由のみのコンペもあり).\n",
    "* Notebook経由\n",
    "* csvファイルを直接アップロード\n",
    "* Kaggle APIを利用"
   ]
  },
  {
   "cell_type": "markdown",
   "metadata": {
    "papermill": {
     "duration": 0.012845,
     "end_time": "2020-09-30T09:05:17.247778",
     "exception": false,
     "start_time": "2020-09-30T09:05:17.234933",
     "status": "completed"
    },
    "tags": []
   },
   "source": [
    "## 2 全体像を把握！ submitまでの処理の流れを見てみよう\n",
    "具体的な処理の流れ\n",
    "1. パッケージの読み込み\n",
    "2. データの読み込み\n",
    "3. 特徴量エンジニアリング(Feature Engineering)\n",
    "4. 機械学習アルゴリズムの学習・予測\n",
    "5. 提出"
   ]
  },
  {
   "cell_type": "markdown",
   "metadata": {
    "papermill": {
     "duration": 0.01269,
     "end_time": "2020-09-30T09:05:17.274340",
     "exception": false,
     "start_time": "2020-09-30T09:05:17.261650",
     "status": "completed"
    },
    "tags": []
   },
   "source": [
    "### パッケージの読み込み\n",
    "以降の処理で利用するパッケージの読み込みを行う."
   ]
  },
  {
   "cell_type": "code",
   "execution_count": 1,
   "metadata": {
    "execution": {
     "iopub.execute_input": "2020-09-30T09:05:17.306648Z",
     "iopub.status.busy": "2020-09-30T09:05:17.305588Z",
     "iopub.status.idle": "2020-09-30T09:05:17.309410Z",
     "shell.execute_reply": "2020-09-30T09:05:17.308648Z"
    },
    "papermill": {
     "duration": 0.022219,
     "end_time": "2020-09-30T09:05:17.309574",
     "exception": false,
     "start_time": "2020-09-30T09:05:17.287355",
     "status": "completed"
    },
    "tags": []
   },
   "outputs": [],
   "source": [
    "import numpy as np # road matrix calculation library \n",
    "import pandas as pd # road data analysis library "
   ]
  },
  {
   "cell_type": "markdown",
   "metadata": {
    "papermill": {
     "duration": 0.015003,
     "end_time": "2020-09-30T09:05:17.338068",
     "exception": false,
     "start_time": "2020-09-30T09:05:17.323065",
     "status": "completed"
    },
    "tags": []
   },
   "source": [
    "### データの読み込み\n",
    "kaggleから提供されているデータを読み込む.\n",
    "データの詳細はkaggleのコンペティションのページの「Data」タブや,右上のDataの項目から見ることができる.  \n",
    "train.csvは機械学習の訓練用のデータです.test.csvは予測を実施するデータです.gender_submission.csvは提出のサンプルです.このファイルを見ると,提出ファイルの形式を確認できます.  \n",
    "head関数を用いて実際にデータが読み込めていることを確認します.``train.head()``の実行結果を見ると,Pclass(搭乗しているクラス)やName(名前)など乗客一人一人の情報が表になっていることがわかります.\n",
    "このコンペで予想するのはtestデータのSurvived(0:死亡,1:生存)という項目です.確認のために,``test.head()``の結果を見ると``Survived``の項目がないことがわかります.また``gender_submission.head()``\n",
    "の実行結果を見ると``PassengerId``と``Survived``が記述されています.  \n",
    "  \n",
    "データをもう少し詳しくみると,``Name``や``Sex``などは文字列が格納されているため,そのままでは機械学習アルゴリズムの入力にすることができません.これらは機械学習アルゴリズムが扱える\n",
    "形に変換する必要があります.また,``Nan``というのはデータの欠損です.欠損値は,一部の機械学習アルゴリズムではそのまま扱うこともできますが,代表値で穴埋めする場合もあります."
   ]
  },
  {
   "cell_type": "code",
   "execution_count": 2,
   "metadata": {
    "execution": {
     "iopub.execute_input": "2020-09-30T09:05:17.374672Z",
     "iopub.status.busy": "2020-09-30T09:05:17.373831Z",
     "iopub.status.idle": "2020-09-30T09:05:17.403079Z",
     "shell.execute_reply": "2020-09-30T09:05:17.402155Z"
    },
    "papermill": {
     "duration": 0.051822,
     "end_time": "2020-09-30T09:05:17.403237",
     "exception": false,
     "start_time": "2020-09-30T09:05:17.351415",
     "status": "completed"
    },
    "tags": []
   },
   "outputs": [],
   "source": [
    "PATH = '../input/titanic/' # set PATH string\n",
    "train = pd.read_csv(PATH+'train.csv') # read train data(csv)\n",
    "test = pd.read_csv(PATH+'test.csv') # read train(csv)\n",
    "gender_submission = pd.read_csv(PATH+'gender_submission.csv') # read submit sample"
   ]
  },
  {
   "cell_type": "code",
   "execution_count": 3,
   "metadata": {
    "execution": {
     "iopub.execute_input": "2020-09-30T09:05:17.451117Z",
     "iopub.status.busy": "2020-09-30T09:05:17.450004Z",
     "iopub.status.idle": "2020-09-30T09:05:17.463814Z",
     "shell.execute_reply": "2020-09-30T09:05:17.464412Z"
    },
    "papermill": {
     "duration": 0.047105,
     "end_time": "2020-09-30T09:05:17.464611",
     "exception": false,
     "start_time": "2020-09-30T09:05:17.417506",
     "status": "completed"
    },
    "tags": []
   },
   "outputs": [
    {
     "data": {
      "text/html": [
       "<div>\n",
       "<style scoped>\n",
       "    .dataframe tbody tr th:only-of-type {\n",
       "        vertical-align: middle;\n",
       "    }\n",
       "\n",
       "    .dataframe tbody tr th {\n",
       "        vertical-align: top;\n",
       "    }\n",
       "\n",
       "    .dataframe thead th {\n",
       "        text-align: right;\n",
       "    }\n",
       "</style>\n",
       "<table border=\"1\" class=\"dataframe\">\n",
       "  <thead>\n",
       "    <tr style=\"text-align: right;\">\n",
       "      <th></th>\n",
       "      <th>PassengerId</th>\n",
       "      <th>Survived</th>\n",
       "      <th>Pclass</th>\n",
       "      <th>Name</th>\n",
       "      <th>Sex</th>\n",
       "      <th>Age</th>\n",
       "      <th>SibSp</th>\n",
       "      <th>Parch</th>\n",
       "      <th>Ticket</th>\n",
       "      <th>Fare</th>\n",
       "      <th>Cabin</th>\n",
       "      <th>Embarked</th>\n",
       "    </tr>\n",
       "  </thead>\n",
       "  <tbody>\n",
       "    <tr>\n",
       "      <th>0</th>\n",
       "      <td>1</td>\n",
       "      <td>0</td>\n",
       "      <td>3</td>\n",
       "      <td>Braund, Mr. Owen Harris</td>\n",
       "      <td>male</td>\n",
       "      <td>22.0</td>\n",
       "      <td>1</td>\n",
       "      <td>0</td>\n",
       "      <td>A/5 21171</td>\n",
       "      <td>7.2500</td>\n",
       "      <td>NaN</td>\n",
       "      <td>S</td>\n",
       "    </tr>\n",
       "    <tr>\n",
       "      <th>1</th>\n",
       "      <td>2</td>\n",
       "      <td>1</td>\n",
       "      <td>1</td>\n",
       "      <td>Cumings, Mrs. John Bradley (Florence Briggs Th...</td>\n",
       "      <td>female</td>\n",
       "      <td>38.0</td>\n",
       "      <td>1</td>\n",
       "      <td>0</td>\n",
       "      <td>PC 17599</td>\n",
       "      <td>71.2833</td>\n",
       "      <td>C85</td>\n",
       "      <td>C</td>\n",
       "    </tr>\n",
       "    <tr>\n",
       "      <th>2</th>\n",
       "      <td>3</td>\n",
       "      <td>1</td>\n",
       "      <td>3</td>\n",
       "      <td>Heikkinen, Miss. Laina</td>\n",
       "      <td>female</td>\n",
       "      <td>26.0</td>\n",
       "      <td>0</td>\n",
       "      <td>0</td>\n",
       "      <td>STON/O2. 3101282</td>\n",
       "      <td>7.9250</td>\n",
       "      <td>NaN</td>\n",
       "      <td>S</td>\n",
       "    </tr>\n",
       "    <tr>\n",
       "      <th>3</th>\n",
       "      <td>4</td>\n",
       "      <td>1</td>\n",
       "      <td>1</td>\n",
       "      <td>Futrelle, Mrs. Jacques Heath (Lily May Peel)</td>\n",
       "      <td>female</td>\n",
       "      <td>35.0</td>\n",
       "      <td>1</td>\n",
       "      <td>0</td>\n",
       "      <td>113803</td>\n",
       "      <td>53.1000</td>\n",
       "      <td>C123</td>\n",
       "      <td>S</td>\n",
       "    </tr>\n",
       "    <tr>\n",
       "      <th>4</th>\n",
       "      <td>5</td>\n",
       "      <td>0</td>\n",
       "      <td>3</td>\n",
       "      <td>Allen, Mr. William Henry</td>\n",
       "      <td>male</td>\n",
       "      <td>35.0</td>\n",
       "      <td>0</td>\n",
       "      <td>0</td>\n",
       "      <td>373450</td>\n",
       "      <td>8.0500</td>\n",
       "      <td>NaN</td>\n",
       "      <td>S</td>\n",
       "    </tr>\n",
       "  </tbody>\n",
       "</table>\n",
       "</div>"
      ],
      "text/plain": [
       "   PassengerId  Survived  Pclass  \\\n",
       "0            1         0       3   \n",
       "1            2         1       1   \n",
       "2            3         1       3   \n",
       "3            4         1       1   \n",
       "4            5         0       3   \n",
       "\n",
       "                                                Name     Sex   Age  SibSp  \\\n",
       "0                            Braund, Mr. Owen Harris    male  22.0      1   \n",
       "1  Cumings, Mrs. John Bradley (Florence Briggs Th...  female  38.0      1   \n",
       "2                             Heikkinen, Miss. Laina  female  26.0      0   \n",
       "3       Futrelle, Mrs. Jacques Heath (Lily May Peel)  female  35.0      1   \n",
       "4                           Allen, Mr. William Henry    male  35.0      0   \n",
       "\n",
       "   Parch            Ticket     Fare Cabin Embarked  \n",
       "0      0         A/5 21171   7.2500   NaN        S  \n",
       "1      0          PC 17599  71.2833   C85        C  \n",
       "2      0  STON/O2. 3101282   7.9250   NaN        S  \n",
       "3      0            113803  53.1000  C123        S  \n",
       "4      0            373450   8.0500   NaN        S  "
      ]
     },
     "execution_count": 3,
     "metadata": {},
     "output_type": "execute_result"
    }
   ],
   "source": [
    "# 実際に読み込めているか確認\n",
    "train.head() # trainの先頭5行を表示"
   ]
  },
  {
   "cell_type": "code",
   "execution_count": 4,
   "metadata": {
    "execution": {
     "iopub.execute_input": "2020-09-30T09:05:17.512960Z",
     "iopub.status.busy": "2020-09-30T09:05:17.512062Z",
     "iopub.status.idle": "2020-09-30T09:05:17.517836Z",
     "shell.execute_reply": "2020-09-30T09:05:17.517020Z"
    },
    "papermill": {
     "duration": 0.038168,
     "end_time": "2020-09-30T09:05:17.517983",
     "exception": false,
     "start_time": "2020-09-30T09:05:17.479815",
     "status": "completed"
    },
    "tags": []
   },
   "outputs": [
    {
     "data": {
      "text/html": [
       "<div>\n",
       "<style scoped>\n",
       "    .dataframe tbody tr th:only-of-type {\n",
       "        vertical-align: middle;\n",
       "    }\n",
       "\n",
       "    .dataframe tbody tr th {\n",
       "        vertical-align: top;\n",
       "    }\n",
       "\n",
       "    .dataframe thead th {\n",
       "        text-align: right;\n",
       "    }\n",
       "</style>\n",
       "<table border=\"1\" class=\"dataframe\">\n",
       "  <thead>\n",
       "    <tr style=\"text-align: right;\">\n",
       "      <th></th>\n",
       "      <th>PassengerId</th>\n",
       "      <th>Pclass</th>\n",
       "      <th>Name</th>\n",
       "      <th>Sex</th>\n",
       "      <th>Age</th>\n",
       "      <th>SibSp</th>\n",
       "      <th>Parch</th>\n",
       "      <th>Ticket</th>\n",
       "      <th>Fare</th>\n",
       "      <th>Cabin</th>\n",
       "      <th>Embarked</th>\n",
       "    </tr>\n",
       "  </thead>\n",
       "  <tbody>\n",
       "    <tr>\n",
       "      <th>0</th>\n",
       "      <td>892</td>\n",
       "      <td>3</td>\n",
       "      <td>Kelly, Mr. James</td>\n",
       "      <td>male</td>\n",
       "      <td>34.5</td>\n",
       "      <td>0</td>\n",
       "      <td>0</td>\n",
       "      <td>330911</td>\n",
       "      <td>7.8292</td>\n",
       "      <td>NaN</td>\n",
       "      <td>Q</td>\n",
       "    </tr>\n",
       "    <tr>\n",
       "      <th>1</th>\n",
       "      <td>893</td>\n",
       "      <td>3</td>\n",
       "      <td>Wilkes, Mrs. James (Ellen Needs)</td>\n",
       "      <td>female</td>\n",
       "      <td>47.0</td>\n",
       "      <td>1</td>\n",
       "      <td>0</td>\n",
       "      <td>363272</td>\n",
       "      <td>7.0000</td>\n",
       "      <td>NaN</td>\n",
       "      <td>S</td>\n",
       "    </tr>\n",
       "    <tr>\n",
       "      <th>2</th>\n",
       "      <td>894</td>\n",
       "      <td>2</td>\n",
       "      <td>Myles, Mr. Thomas Francis</td>\n",
       "      <td>male</td>\n",
       "      <td>62.0</td>\n",
       "      <td>0</td>\n",
       "      <td>0</td>\n",
       "      <td>240276</td>\n",
       "      <td>9.6875</td>\n",
       "      <td>NaN</td>\n",
       "      <td>Q</td>\n",
       "    </tr>\n",
       "    <tr>\n",
       "      <th>3</th>\n",
       "      <td>895</td>\n",
       "      <td>3</td>\n",
       "      <td>Wirz, Mr. Albert</td>\n",
       "      <td>male</td>\n",
       "      <td>27.0</td>\n",
       "      <td>0</td>\n",
       "      <td>0</td>\n",
       "      <td>315154</td>\n",
       "      <td>8.6625</td>\n",
       "      <td>NaN</td>\n",
       "      <td>S</td>\n",
       "    </tr>\n",
       "    <tr>\n",
       "      <th>4</th>\n",
       "      <td>896</td>\n",
       "      <td>3</td>\n",
       "      <td>Hirvonen, Mrs. Alexander (Helga E Lindqvist)</td>\n",
       "      <td>female</td>\n",
       "      <td>22.0</td>\n",
       "      <td>1</td>\n",
       "      <td>1</td>\n",
       "      <td>3101298</td>\n",
       "      <td>12.2875</td>\n",
       "      <td>NaN</td>\n",
       "      <td>S</td>\n",
       "    </tr>\n",
       "  </tbody>\n",
       "</table>\n",
       "</div>"
      ],
      "text/plain": [
       "   PassengerId  Pclass                                          Name     Sex  \\\n",
       "0          892       3                              Kelly, Mr. James    male   \n",
       "1          893       3              Wilkes, Mrs. James (Ellen Needs)  female   \n",
       "2          894       2                     Myles, Mr. Thomas Francis    male   \n",
       "3          895       3                              Wirz, Mr. Albert    male   \n",
       "4          896       3  Hirvonen, Mrs. Alexander (Helga E Lindqvist)  female   \n",
       "\n",
       "    Age  SibSp  Parch   Ticket     Fare Cabin Embarked  \n",
       "0  34.5      0      0   330911   7.8292   NaN        Q  \n",
       "1  47.0      1      0   363272   7.0000   NaN        S  \n",
       "2  62.0      0      0   240276   9.6875   NaN        Q  \n",
       "3  27.0      0      0   315154   8.6625   NaN        S  \n",
       "4  22.0      1      1  3101298  12.2875   NaN        S  "
      ]
     },
     "execution_count": 4,
     "metadata": {},
     "output_type": "execute_result"
    }
   ],
   "source": [
    "test.head()"
   ]
  },
  {
   "cell_type": "code",
   "execution_count": 5,
   "metadata": {
    "execution": {
     "iopub.execute_input": "2020-09-30T09:05:17.560096Z",
     "iopub.status.busy": "2020-09-30T09:05:17.559221Z",
     "iopub.status.idle": "2020-09-30T09:05:17.564719Z",
     "shell.execute_reply": "2020-09-30T09:05:17.564128Z"
    },
    "papermill": {
     "duration": 0.030662,
     "end_time": "2020-09-30T09:05:17.564850",
     "exception": false,
     "start_time": "2020-09-30T09:05:17.534188",
     "status": "completed"
    },
    "tags": []
   },
   "outputs": [
    {
     "data": {
      "text/html": [
       "<div>\n",
       "<style scoped>\n",
       "    .dataframe tbody tr th:only-of-type {\n",
       "        vertical-align: middle;\n",
       "    }\n",
       "\n",
       "    .dataframe tbody tr th {\n",
       "        vertical-align: top;\n",
       "    }\n",
       "\n",
       "    .dataframe thead th {\n",
       "        text-align: right;\n",
       "    }\n",
       "</style>\n",
       "<table border=\"1\" class=\"dataframe\">\n",
       "  <thead>\n",
       "    <tr style=\"text-align: right;\">\n",
       "      <th></th>\n",
       "      <th>PassengerId</th>\n",
       "      <th>Survived</th>\n",
       "    </tr>\n",
       "  </thead>\n",
       "  <tbody>\n",
       "    <tr>\n",
       "      <th>0</th>\n",
       "      <td>892</td>\n",
       "      <td>0</td>\n",
       "    </tr>\n",
       "    <tr>\n",
       "      <th>1</th>\n",
       "      <td>893</td>\n",
       "      <td>1</td>\n",
       "    </tr>\n",
       "    <tr>\n",
       "      <th>2</th>\n",
       "      <td>894</td>\n",
       "      <td>0</td>\n",
       "    </tr>\n",
       "    <tr>\n",
       "      <th>3</th>\n",
       "      <td>895</td>\n",
       "      <td>0</td>\n",
       "    </tr>\n",
       "    <tr>\n",
       "      <th>4</th>\n",
       "      <td>896</td>\n",
       "      <td>1</td>\n",
       "    </tr>\n",
       "  </tbody>\n",
       "</table>\n",
       "</div>"
      ],
      "text/plain": [
       "   PassengerId  Survived\n",
       "0          892         0\n",
       "1          893         1\n",
       "2          894         0\n",
       "3          895         0\n",
       "4          896         1"
      ]
     },
     "execution_count": 5,
     "metadata": {},
     "output_type": "execute_result"
    }
   ],
   "source": [
    "gender_submission.head()"
   ]
  },
  {
   "cell_type": "markdown",
   "metadata": {
    "papermill": {
     "duration": 0.015542,
     "end_time": "2020-09-30T09:05:17.597042",
     "exception": false,
     "start_time": "2020-09-30T09:05:17.581500",
     "status": "completed"
    },
    "tags": []
   },
   "source": [
    "### 特徴量エンジニアリング\n",
    "次のような処理を特徴量エンジニアリングという.\n",
    "* 読み込んだデータを機械学習アルゴリズムが扱える形に変換する.\n",
    "* 既存のデータから,機械学習アルゴリズムが予測する上で有用な新しい特徴量を生成する.\n",
    "前者については,例えば``Sex``の``male``,``female``をそれぞれ0と1に変換します.また欠損値を埋める処理も行います.後者については次のNotebookで詳しく掘り下げていきます.  \n",
    "  \n",
    "大元のデータから特徴量エンジニアリングを経て,X_train,y_train,X_testというデータを作ります.大雑把な表現をすると,X_train,y_trainの対応関係を学習し,\n",
    "X_testに対応する(未知の)y_testの値を当てるという仕組みです.このような仕組みを「教師あり学習」と呼びます.(cf.教師なし学習)"
   ]
  },
  {
   "cell_type": "code",
   "execution_count": 6,
   "metadata": {
    "execution": {
     "iopub.execute_input": "2020-09-30T09:05:17.646624Z",
     "iopub.status.busy": "2020-09-30T09:05:17.645363Z",
     "iopub.status.idle": "2020-09-30T09:05:17.687361Z",
     "shell.execute_reply": "2020-09-30T09:05:17.686571Z"
    },
    "papermill": {
     "duration": 0.074415,
     "end_time": "2020-09-30T09:05:17.687529",
     "exception": false,
     "start_time": "2020-09-30T09:05:17.613114",
     "status": "completed"
    },
    "tags": []
   },
   "outputs": [
    {
     "data": {
      "text/html": [
       "<div>\n",
       "<style scoped>\n",
       "    .dataframe tbody tr th:only-of-type {\n",
       "        vertical-align: middle;\n",
       "    }\n",
       "\n",
       "    .dataframe tbody tr th {\n",
       "        vertical-align: top;\n",
       "    }\n",
       "\n",
       "    .dataframe thead th {\n",
       "        text-align: right;\n",
       "    }\n",
       "</style>\n",
       "<table border=\"1\" class=\"dataframe\">\n",
       "  <thead>\n",
       "    <tr style=\"text-align: right;\">\n",
       "      <th></th>\n",
       "      <th>PassengerId</th>\n",
       "      <th>Survived</th>\n",
       "      <th>Pclass</th>\n",
       "      <th>Name</th>\n",
       "      <th>Sex</th>\n",
       "      <th>Age</th>\n",
       "      <th>SibSp</th>\n",
       "      <th>Parch</th>\n",
       "      <th>Ticket</th>\n",
       "      <th>Fare</th>\n",
       "      <th>Cabin</th>\n",
       "      <th>Embarked</th>\n",
       "    </tr>\n",
       "  </thead>\n",
       "  <tbody>\n",
       "    <tr>\n",
       "      <th>0</th>\n",
       "      <td>1</td>\n",
       "      <td>0.0</td>\n",
       "      <td>3</td>\n",
       "      <td>Braund, Mr. Owen Harris</td>\n",
       "      <td>0</td>\n",
       "      <td>22.0</td>\n",
       "      <td>1</td>\n",
       "      <td>0</td>\n",
       "      <td>A/5 21171</td>\n",
       "      <td>7.2500</td>\n",
       "      <td>NaN</td>\n",
       "      <td>0</td>\n",
       "    </tr>\n",
       "    <tr>\n",
       "      <th>1</th>\n",
       "      <td>2</td>\n",
       "      <td>1.0</td>\n",
       "      <td>1</td>\n",
       "      <td>Cumings, Mrs. John Bradley (Florence Briggs Th...</td>\n",
       "      <td>1</td>\n",
       "      <td>38.0</td>\n",
       "      <td>1</td>\n",
       "      <td>0</td>\n",
       "      <td>PC 17599</td>\n",
       "      <td>71.2833</td>\n",
       "      <td>C85</td>\n",
       "      <td>1</td>\n",
       "    </tr>\n",
       "    <tr>\n",
       "      <th>2</th>\n",
       "      <td>3</td>\n",
       "      <td>1.0</td>\n",
       "      <td>3</td>\n",
       "      <td>Heikkinen, Miss. Laina</td>\n",
       "      <td>1</td>\n",
       "      <td>26.0</td>\n",
       "      <td>0</td>\n",
       "      <td>0</td>\n",
       "      <td>STON/O2. 3101282</td>\n",
       "      <td>7.9250</td>\n",
       "      <td>NaN</td>\n",
       "      <td>0</td>\n",
       "    </tr>\n",
       "    <tr>\n",
       "      <th>3</th>\n",
       "      <td>4</td>\n",
       "      <td>1.0</td>\n",
       "      <td>1</td>\n",
       "      <td>Futrelle, Mrs. Jacques Heath (Lily May Peel)</td>\n",
       "      <td>1</td>\n",
       "      <td>35.0</td>\n",
       "      <td>1</td>\n",
       "      <td>0</td>\n",
       "      <td>113803</td>\n",
       "      <td>53.1000</td>\n",
       "      <td>C123</td>\n",
       "      <td>0</td>\n",
       "    </tr>\n",
       "    <tr>\n",
       "      <th>4</th>\n",
       "      <td>5</td>\n",
       "      <td>0.0</td>\n",
       "      <td>3</td>\n",
       "      <td>Allen, Mr. William Henry</td>\n",
       "      <td>0</td>\n",
       "      <td>35.0</td>\n",
       "      <td>0</td>\n",
       "      <td>0</td>\n",
       "      <td>373450</td>\n",
       "      <td>8.0500</td>\n",
       "      <td>NaN</td>\n",
       "      <td>0</td>\n",
       "    </tr>\n",
       "  </tbody>\n",
       "</table>\n",
       "</div>"
      ],
      "text/plain": [
       "   PassengerId  Survived  Pclass  \\\n",
       "0            1       0.0       3   \n",
       "1            2       1.0       1   \n",
       "2            3       1.0       3   \n",
       "3            4       1.0       1   \n",
       "4            5       0.0       3   \n",
       "\n",
       "                                                Name  Sex   Age  SibSp  Parch  \\\n",
       "0                            Braund, Mr. Owen Harris    0  22.0      1      0   \n",
       "1  Cumings, Mrs. John Bradley (Florence Briggs Th...    1  38.0      1      0   \n",
       "2                             Heikkinen, Miss. Laina    1  26.0      0      0   \n",
       "3       Futrelle, Mrs. Jacques Heath (Lily May Peel)    1  35.0      1      0   \n",
       "4                           Allen, Mr. William Henry    0  35.0      0      0   \n",
       "\n",
       "             Ticket     Fare Cabin  Embarked  \n",
       "0         A/5 21171   7.2500   NaN         0  \n",
       "1          PC 17599  71.2833   C85         1  \n",
       "2  STON/O2. 3101282   7.9250   NaN         0  \n",
       "3            113803  53.1000  C123         0  \n",
       "4            373450   8.0500   NaN         0  "
      ]
     },
     "execution_count": 6,
     "metadata": {},
     "output_type": "execute_result"
    }
   ],
   "source": [
    "dataset = pd.concat((train,test),ignore_index=True) # concat train and test\n",
    "# print(pd.isnull(dataset).sum()) # the number of missing values in each feature\n",
    "dataset.replace(['male','female'], [0, 1], inplace=True) # convert Sex into numbers\n",
    "dataset['Embarked'] = dataset['Embarked'].fillna('S') # fill missing value int Embarked(mode)\n",
    "dataset['Fare'] = dataset['Fare'].fillna(dataset['Fare'].mean())\n",
    "dataset.replace(['S','C','Q'], [0, 1,2], inplace=True) # convert Embarked into numbers\n",
    "dataset.head()"
   ]
  },
  {
   "cell_type": "code",
   "execution_count": 7,
   "metadata": {
    "execution": {
     "iopub.execute_input": "2020-09-30T09:05:17.734135Z",
     "iopub.status.busy": "2020-09-30T09:05:17.733366Z",
     "iopub.status.idle": "2020-09-30T09:05:17.735932Z",
     "shell.execute_reply": "2020-09-30T09:05:17.736483Z"
    },
    "papermill": {
     "duration": 0.03196,
     "end_time": "2020-09-30T09:05:17.736673",
     "exception": false,
     "start_time": "2020-09-30T09:05:17.704713",
     "status": "completed"
    },
    "tags": []
   },
   "outputs": [],
   "source": [
    "# remove unused features\n",
    "drop_features = ['PassengerId','Name','Age','Ticket','Cabin']\n",
    "dataset.drop(labels = drop_features, axis = 1, inplace = True)\n",
    "# make X_train\n",
    "X_train = dataset[:len(train)]\n",
    "# make y_train\n",
    "y_train = X_train['Survived']\n",
    "X_train = X_train.drop(labels = 'Survived',axis = 1)\n",
    "# make test\n",
    "X_test = dataset[len(train):]\n",
    "X_test = X_test.drop('Survived',axis=1)"
   ]
  },
  {
   "cell_type": "markdown",
   "metadata": {
    "papermill": {
     "duration": 0.016867,
     "end_time": "2020-09-30T09:05:17.770849",
     "exception": false,
     "start_time": "2020-09-30T09:05:17.753982",
     "status": "completed"
    },
    "tags": []
   },
   "source": [
    "### 機械学習アルゴリズムの学習・予測\n",
    "用意した特徴量と予測の対象のペアから,機械学習アルゴリズムを用いて予測器を学習させましょう.\n",
    "まず,予測器の読み込みを行います.次に読み込んだ予測器をインスタンス化します.そして``fit``関数を用いて学習を行います.最後に予測値が未知の特徴量(X_test)を与えて予測させます(``predict``関数).\n",
    "y_predの中身は0と1の予測値が格納されています."
   ]
  },
  {
   "cell_type": "code",
   "execution_count": 8,
   "metadata": {
    "execution": {
     "iopub.execute_input": "2020-09-30T09:05:17.811992Z",
     "iopub.status.busy": "2020-09-30T09:05:17.811245Z",
     "iopub.status.idle": "2020-09-30T09:05:19.044113Z",
     "shell.execute_reply": "2020-09-30T09:05:19.044727Z"
    },
    "papermill": {
     "duration": 1.256833,
     "end_time": "2020-09-30T09:05:19.044931",
     "exception": false,
     "start_time": "2020-09-30T09:05:17.788098",
     "status": "completed"
    },
    "tags": []
   },
   "outputs": [
    {
     "name": "stderr",
     "output_type": "stream",
     "text": [
      "/opt/conda/lib/python3.7/site-packages/sklearn/linear_model/_sag.py:330: ConvergenceWarning: The max_iter was reached which means the coef_ did not converge\n",
      "  \"the coef_ did not converge\", ConvergenceWarning)\n"
     ]
    },
    {
     "data": {
      "text/plain": [
       "LogisticRegression(random_state=0, solver='sag')"
      ]
     },
     "execution_count": 8,
     "metadata": {},
     "output_type": "execute_result"
    }
   ],
   "source": [
    "from sklearn.linear_model import LogisticRegression \n",
    "\n",
    "clf = LogisticRegression(penalty='l2', solver='sag', random_state=0) # instantiate LogisticRegression\n",
    "clf.fit(X_train, y_train) # learning "
   ]
  },
  {
   "cell_type": "code",
   "execution_count": 9,
   "metadata": {
    "execution": {
     "iopub.execute_input": "2020-09-30T09:05:19.093789Z",
     "iopub.status.busy": "2020-09-30T09:05:19.092617Z",
     "iopub.status.idle": "2020-09-30T09:05:19.096334Z",
     "shell.execute_reply": "2020-09-30T09:05:19.095738Z"
    },
    "papermill": {
     "duration": 0.033129,
     "end_time": "2020-09-30T09:05:19.096484",
     "exception": false,
     "start_time": "2020-09-30T09:05:19.063355",
     "status": "completed"
    },
    "tags": []
   },
   "outputs": [],
   "source": [
    "y_pred = clf.predict(X_test) # predict  "
   ]
  },
  {
   "cell_type": "markdown",
   "metadata": {
    "papermill": {
     "duration": 0.017556,
     "end_time": "2020-09-30T09:05:19.132189",
     "exception": false,
     "start_time": "2020-09-30T09:05:19.114633",
     "status": "completed"
    },
    "tags": []
   },
   "source": [
    "### 提出(submit)\n",
    "最後にNotebook経由で提出するために予測値を提出ファイル形式に整えます.\n",
    "下のプログラムまでエラーなく実行できたら右上の``Save Version`` -> ``Save & Run All (Commit)``を選択 -> ``Save``をクリック"
   ]
  },
  {
   "cell_type": "code",
   "execution_count": 10,
   "metadata": {
    "execution": {
     "iopub.execute_input": "2020-09-30T09:05:19.178106Z",
     "iopub.status.busy": "2020-09-30T09:05:19.177297Z",
     "iopub.status.idle": "2020-09-30T09:05:19.501885Z",
     "shell.execute_reply": "2020-09-30T09:05:19.501032Z"
    },
    "papermill": {
     "duration": 0.351836,
     "end_time": "2020-09-30T09:05:19.502021",
     "exception": false,
     "start_time": "2020-09-30T09:05:19.150185",
     "status": "completed"
    },
    "tags": []
   },
   "outputs": [],
   "source": [
    "submit = pd.DataFrame(test['PassengerId'])\n",
    "submit['Survived'] = list(map(int, y_pred))\n",
    "submit.to_csv('submission.csv', index=False)"
   ]
  }
 ],
 "metadata": {
  "kernelspec": {
   "display_name": "Python 3",
   "language": "python",
   "name": "python3"
  },
  "language_info": {
   "codemirror_mode": {
    "name": "ipython",
    "version": 3
   },
   "file_extension": ".py",
   "mimetype": "text/x-python",
   "name": "python",
   "nbconvert_exporter": "python",
   "pygments_lexer": "ipython3",
   "version": "3.6.8"
  },
  "papermill": {
   "duration": 7.268185,
   "end_time": "2020-09-30T09:05:19.630274",
   "environment_variables": {},
   "exception": null,
   "input_path": "__notebook__.ipynb",
   "output_path": "__notebook__.ipynb",
   "parameters": {},
   "start_time": "2020-09-30T09:05:12.362089",
   "version": "2.1.0"
  },
  "toc": {
   "base_numbering": 1,
   "nav_menu": {},
   "number_sections": true,
   "sideBar": true,
   "skip_h1_title": false,
   "title_cell": "Table of Contents",
   "title_sidebar": "Contents",
   "toc_cell": false,
   "toc_position": {},
   "toc_section_display": true,
   "toc_window_display": false
  }
 },
 "nbformat": 4,
 "nbformat_minor": 4
}
